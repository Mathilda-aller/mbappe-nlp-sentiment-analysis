{
 "cells": [
  {
   "cell_type": "code",
   "execution_count": 10,
   "id": "6aefdf86-349e-40e3-bdee-9d62c0855c31",
   "metadata": {},
   "outputs": [],
   "source": [
    "# Load model directly\n",
    "from transformers import AutoTokenizer, AutoModelForSequenceClassification\n",
    "\n",
    "tokenizer = AutoTokenizer.from_pretrained(\"ac0hik/Sentiment_Analysis_French\")\n",
    "model = AutoModelForSequenceClassification.from_pretrained(\"ac0hik/Sentiment_Analysis_French\")"
   ]
  },
  {
   "cell_type": "code",
   "execution_count": 13,
   "id": "d53bacee-ad23-47cd-a216-304b4de6246a",
   "metadata": {},
   "outputs": [
    {
     "name": "stderr",
     "output_type": "stream",
     "text": [
      "Device set to use cpu\n"
     ]
    },
    {
     "name": "stdout",
     "output_type": "stream",
     "text": [
      "[{'label': 'positive', 'score': 0.8393130302429199}]\n"
     ]
    }
   ],
   "source": [
    "#Pretest selected model  \n",
    "from transformers import pipeline\n",
    "\n",
    "classifier = pipeline(\"sentiment-analysis\", model=\"ac0hik/Sentiment_Analysis_French\")\n",
    "\n",
    "# Example comment\n",
    "comment = \"Mbappé est un joueur incroyable, je l'adore !\"\n",
    "result = classifier(comment)\n",
    "\n",
    "print(result)\n"
   ]
  },
  {
   "cell_type": "code",
   "execution_count": 36,
   "id": "d8a00289-cc8f-4e42-ade4-c93e34153856",
   "metadata": {},
   "outputs": [
    {
     "name": "stderr",
     "output_type": "stream",
     "text": [
      "Device set to use cpu\n"
     ]
    },
    {
     "name": "stdout",
     "output_type": "stream",
     "text": [
      "                                         textDisplay sentiment\n",
      "0  bravo kilou. guadeloupe france 971 real madrid...  positive\n",
      "1  bonnes chances je suis catalent mais  je te so...  positive\n",
      "2                         je suis barcelonais...mais   neutral\n",
      "3  bienvenue kilian mbap dans un grand club du monde  positive\n",
      "4        nous sommes  la joie de km au real madrid .  positive\n"
     ]
    }
   ],
   "source": [
    "from transformers import pipeline\n",
    "import pandas as pd\n",
    "\n",
    "# Load the sentiment analysis pipeline with a pre-trained model\n",
    "classifier = pipeline(\"sentiment-analysis\", model=\"ac0hik/Sentiment_Analysis_French\", truncation=True)\n",
    "\n",
    "# Load the dataset\n",
    "df_psg = pd.read_excel('cleaned_output_madrid.xlsx')  # Load your comments dataset\n",
    "# Define a function to analyze sentiment with padding and truncation\n",
    "def analyze_sentiment_with_padding(text):\n",
    "    try:\n",
    "        if pd.isna(text) or text == '':\n",
    "            return 'NEUTRAL'  # Handle empty or missing text\n",
    "        result = classifier(text)\n",
    "        # Return the label from the result (e.g., positive, negative)\n",
    "        return result[0]['label']\n",
    "    except Exception as e:\n",
    "        print(f\"Error processing text: {text}\\n{e}\")\n",
    "        return 'ERROR'  # Return error label in case of exception\n",
    "\n",
    "# Apply the sentiment analysis model to each comment\n",
    "df_psg['sentiment'] = df_psg['textDisplay'].apply(analyze_sentiment_with_padding)\n",
    "\n",
    "# Save the sentiment results to a new Excel file\n",
    "df_psg.to_excel('madrid_sentiment_analysis_results.xlsx', index=False)\n",
    "# Print the first few rows of the DataFrame with sentiment labels\n",
    "print(df_psg[['textDisplay', 'sentiment']].head())\n"
   ]
  },
  {
   "cell_type": "code",
   "execution_count": 1,
   "id": "982f4a51-dd4d-4089-bcfb-b92f26bb894a",
   "metadata": {},
   "outputs": [
    {
     "name": "stderr",
     "output_type": "stream",
     "text": [
      "Device set to use cpu\n"
     ]
    },
    {
     "name": "stdout",
     "output_type": "stream",
     "text": [
      "                                         textDisplay sentiment\n",
      "0                   mbapp, dj une lgende pour vous ?   neutral\n",
      "1  @@aminatafall-o9p leader c est pas une legende...   neutral\n",
      "2                                      mbapp et bien   neutral\n",
      "3  yo mbapp quitte la nation va prendre ta formti...  negative\n",
      "4  j'aime ce jouer de foot je suis ton plus grand...  positive\n"
     ]
    }
   ],
   "source": [
    "from transformers import pipeline\n",
    "import pandas as pd\n",
    "\n",
    "# Load the sentiment analysis pipeline with a pre-trained model\n",
    "classifier = pipeline(\"sentiment-analysis\", model=\"ac0hik/Sentiment_Analysis_French\", truncation=True)\n",
    "\n",
    "# Load the dataset\n",
    "df_psg = pd.read_excel('cleaned_output_psg.xlsx')  # Load your comments dataset\n",
    "# Define a function to analyze sentiment with padding and truncation\n",
    "def analyze_sentiment_with_padding(text):\n",
    "    try:\n",
    "        if pd.isna(text) or text == '':\n",
    "            return 'NEUTRAL'  # Handle empty or missing text\n",
    "        result = classifier(text)\n",
    "        # Return the label from the result (e.g., positive, negative)\n",
    "        return result[0]['label']\n",
    "    except Exception as e:\n",
    "        print(f\"Error processing text: {text}\\n{e}\")\n",
    "        return 'ERROR'  # Return error label in case of exception\n",
    "\n",
    "# Apply the sentiment analysis model to each comment\n",
    "df_psg['sentiment'] = df_psg['textDisplay'].apply(analyze_sentiment_with_padding)\n",
    "\n",
    "# Save the sentiment results to a new Excel file\n",
    "df_psg.to_excel('psg_sentiment_analysis_results.xlsx', index=False)\n",
    "# Print the first few rows of the DataFrame with sentiment labels\n",
    "print(df_psg[['textDisplay', 'sentiment']].head())\n"
   ]
  },
  {
   "cell_type": "code",
   "execution_count": null,
   "id": "7a0fa7f8-0c34-4eb1-9e67-4f0754cd8a74",
   "metadata": {},
   "outputs": [],
   "source": []
  }
 ],
 "metadata": {
  "kernelspec": {
   "display_name": "Python 3 (ipykernel)",
   "language": "python",
   "name": "python3"
  },
  "language_info": {
   "codemirror_mode": {
    "name": "ipython",
    "version": 3
   },
   "file_extension": ".py",
   "mimetype": "text/x-python",
   "name": "python",
   "nbconvert_exporter": "python",
   "pygments_lexer": "ipython3",
   "version": "3.12.4"
  }
 },
 "nbformat": 4,
 "nbformat_minor": 5
}
